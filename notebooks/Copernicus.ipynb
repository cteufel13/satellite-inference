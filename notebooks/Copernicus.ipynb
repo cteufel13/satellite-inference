{
 "cells": [
  {
   "cell_type": "code",
   "execution_count": 11,
   "id": "95b42189",
   "metadata": {},
   "outputs": [],
   "source": [
    "import sys\n",
    "sys.path.append('..')"
   ]
  },
  {
   "cell_type": "code",
   "execution_count": 12,
   "id": "b391bfb3",
   "metadata": {},
   "outputs": [],
   "source": [
    "import matplotlib.pyplot as plt\n",
    "import pandas as pd\n",
    "import getpass\n",
    "\n",
    "from sentinelhub import (\n",
    "    SHConfig,\n",
    "    DataCollection,\n",
    "    SentinelHubCatalog,\n",
    "    SentinelHubRequest,\n",
    "    SentinelHubStatistical,\n",
    "    BBox,\n",
    "    bbox_to_dimensions,\n",
    "    CRS,\n",
    "    MimeType,\n",
    "    Geometry,\n",
    ")\n",
    "\n",
    "from src.visualization.image_slideshow import SlideShow"
   ]
  },
  {
   "cell_type": "code",
   "execution_count": 13,
   "id": "9bc01522",
   "metadata": {},
   "outputs": [],
   "source": [
    "# Only run this cell if you have not created a configuration.\n",
    "\n",
    "# config = SHConfig()\n",
    "# config.sh_client_id = getpass.getpass(\"Enter your SentinelHub client id\")\n",
    "# config.sh_client_secret = getpass.getpass(\"Enter your SentinelHub client secret\")\n",
    "# config.sh_token_url = \"https://identity.dataspace.copernicus.eu/auth/realms/CDSE/protocol/openid-connect/token\"\n",
    "# config.sh_base_url = \"https://sh.dataspace.copernicus.eu\"\n",
    "# config.save(\"cdse\")"
   ]
  },
  {
   "cell_type": "code",
   "execution_count": 14,
   "id": "79081bbe",
   "metadata": {},
   "outputs": [],
   "source": [
    "config = SHConfig(\"cdse\")"
   ]
  },
  {
   "cell_type": "code",
   "execution_count": 15,
   "id": "c1a61c2d",
   "metadata": {},
   "outputs": [
    {
     "data": {
      "text/plain": [
       "SHConfig(\n",
       "  instance_id='',\n",
       "  sh_client_id='***********************************deeb',\n",
       "  sh_client_secret='****************************WOBC',\n",
       "  sh_base_url='https://sh.dataspace.copernicus.eu',\n",
       "  sh_auth_base_url=None,\n",
       "  sh_token_url='https://identity.dataspace.copernicus.eu/auth/realms/CDSE/protocol/openid-connect/token',\n",
       "  geopedia_wms_url='https://service.geopedia.world',\n",
       "  geopedia_rest_url='https://www.geopedia.world/rest',\n",
       "  aws_access_key_id='',\n",
       "  aws_secret_access_key='',\n",
       "  aws_session_token='',\n",
       "  aws_metadata_url='https://roda.sentinel-hub.com',\n",
       "  aws_s3_l1c_bucket='sentinel-s2-l1c',\n",
       "  aws_s3_l2a_bucket='sentinel-s2-l2a',\n",
       "  opensearch_url='http://opensearch.sentinel-hub.com/resto/api/collections/Sentinel2',\n",
       "  max_wfs_records_per_query=100,\n",
       "  max_opensearch_records_per_query=500,\n",
       "  max_download_attempts=4,\n",
       "  download_sleep_time=5.0,\n",
       "  download_timeout_seconds=120.0,\n",
       "  number_of_download_processes=1,\n",
       "  max_retries=None,\n",
       ")"
      ]
     },
     "execution_count": 15,
     "metadata": {},
     "output_type": "execute_result"
    }
   ],
   "source": [
    "config"
   ]
  },
  {
   "cell_type": "code",
   "execution_count": 16,
   "id": "65573dd8",
   "metadata": {},
   "outputs": [],
   "source": [
    "aoi_coords_wgs84 = [\n",
    "  116.040832,\n",
    "  -33.883815,\n",
    "  116.087006,\n",
    "  -33.849178\n",
    "]"
   ]
  },
  {
   "cell_type": "code",
   "execution_count": 17,
   "id": "c5d5b3be",
   "metadata": {},
   "outputs": [
    {
     "name": "stdout",
     "output_type": "stream",
     "text": [
      "Image shape at 10 m resolution: (424, 388) pixels\n"
     ]
    }
   ],
   "source": [
    "resolution = 10\n",
    "aoi_bbox = BBox(bbox=aoi_coords_wgs84, crs=CRS.WGS84)\n",
    "aoi_size = bbox_to_dimensions(aoi_bbox, resolution=resolution)\n",
    "\n",
    "print(f\"Image shape at {resolution} m resolution: {aoi_size} pixels\")"
   ]
  },
  {
   "cell_type": "markdown",
   "id": "e174470c",
   "metadata": {},
   "source": [
    "##### Evalscript"
   ]
  },
  {
   "cell_type": "code",
   "execution_count": 18,
   "id": "8e934419",
   "metadata": {},
   "outputs": [],
   "source": [
    "evalscript_true_color = \"\"\"\n",
    "    //VERSION=3\n",
    "\n",
    "    function setup() {\n",
    "        return {\n",
    "            input: [{\n",
    "                bands: [\"B02\", \"B03\", \"B04\"]\n",
    "            }],\n",
    "            output: {\n",
    "                bands: 3\n",
    "            }\n",
    "        };\n",
    "    }\n",
    "\n",
    "    function evaluatePixel(sample) {\n",
    "        return [sample.B04, sample.B03, sample.B02];\n",
    "    }\n",
    "\"\"\""
   ]
  },
  {
   "cell_type": "code",
   "execution_count": 19,
   "id": "f4e7da8b",
   "metadata": {},
   "outputs": [],
   "source": [
    "date_ranges = [\n",
    "    (\"2016-06-01\",\"2016-06-30\"),\n",
    "    (\"2016-07-01\",\"2016-07-31\"),\n",
    "    (\"2016-08-01\",\"2016-08-31\"),\n",
    "    (\"2016-09-01\",\"2016-09-30\"),\n",
    "    (\"2016-10-01\",\"2016-10-31\"),\n",
    "    (\"2016-11-01\",\"2016-11-30\"),\n",
    "    (\"2016-12-01\",\"2016-12-31\"),\n",
    "    (\"2017-01-01\",\"2017-01-31\"),\n",
    "    (\"2017-02-01\",\"2017-02-28\"),\n",
    "    (\"2017-03-01\",\"2017-03-31\"),\n",
    "    (\"2017-04-01\",\"2017-04-30\"),\n",
    "    (\"2017-05-01\",\"2017-05-31\"),\n",
    "    (\"2017-06-01\",\"2017-06-30\"),\n",
    "    (\"2017-07-01\",\"2017-07-31\"),\n",
    "    (\"2017-08-01\",\"2017-08-31\"),\n",
    "    (\"2017-09-01\",\"2017-09-30\"),\n",
    "    (\"2017-10-01\",\"2017-10-31\"),\n",
    "    (\"2017-11-01\",\"2017-11-30\"),\n",
    "    (\"2017-12-01\",\"2017-12-31\"),\n",
    "    (\"2018-01-01\",\"2018-01-31\"),\n",
    "    (\"2018-02-01\",\"2018-02-28\"),\n",
    "    (\"2018-03-01\",\"2018-03-31\"),\n",
    "    (\"2018-04-01\",\"2018-04-30\"),\n",
    "    (\"2018-05-01\",\"2018-05-31\"),\n",
    "    (\"2018-06-01\",\"2018-06-30\"),\n",
    "    (\"2018-07-01\",\"2018-07-31\"),\n",
    "    (\"2018-08-01\",\"2018-08-31\"),\n",
    "    (\"2018-09-01\",\"2018-09-30\"),\n",
    "    (\"2018-10-01\",\"2018-10-31\"),\n",
    "    (\"2018-11-01\",\"2018-11-30\"),\n",
    "    (\"2018-12-01\",\"2018-12-31\"),\n",
    "    (\"2019-01-01\",\"2019-01-31\"),\n",
    "    (\"2019-02-01\",\"2019-02-28\"),\n",
    "    (\"2019-03-01\",\"2019-03-31\"), \n",
    "    (\"2019-04-01\",\"2019-04-30\"),\n",
    "    (\"2019-05-01\",\"2019-05-31\"),\n",
    "    (\"2019-06-01\",\"2019-06-30\"),\n",
    "    (\"2019-07-01\",\"2019-07-31\"),\n",
    "    (\"2019-08-01\",\"2019-08-31\"),\n",
    "    (\"2019-09-01\",\"2019-09-30\"),\n",
    "    (\"2019-10-01\",\"2019-10-31\"),\n",
    "    (\"2019-11-01\",\"2019-11-30\"),\n",
    "    (\"2019-12-01\",\"2019-12-31\"),\n",
    "    (\"2020-01-01\",\"2020-01-31\"),\n",
    "    (\"2020-02-01\",\"2020-02-29\"),\n",
    "    (\"2020-03-01\",\"2020-03-31\"),\n",
    "    (\"2020-04-01\",\"2020-04-30\"),\n",
    "    (\"2020-05-01\",\"2020-05-31\"),\n",
    "    (\"2020-06-01\",\"2020-06-30\"),\n",
    "    (\"2020-07-01\",\"2020-07-31\"),\n",
    "    (\"2020-08-01\",\"2020-08-31\"),        \n",
    "    (\"2020-09-01\",\"2020-09-30\"),\n",
    "    (\"2020-10-01\",\"2020-10-31\"),\n",
    "    (\"2020-11-01\",\"2020-11-30\"),\n",
    "    (\"2020-12-01\",\"2020-12-31\"),\n",
    "    (\"2021-01-01\",\"2021-01-31\"),\n",
    "    (\"2021-02-01\",\"2021-02-28\"),\n",
    "    (\"2021-03-01\",\"2021-03-31\"),\n",
    "    (\"2021-04-01\",\"2021-04-30\"),\n",
    "    (\"2021-05-01\",\"2021-05-31\"),\n",
    "    (\"2021-06-01\",\"2021-06-30\"),\n",
    "    (\"2021-07-01\",\"2021-07-31\"),\n",
    "    (\"2021-08-01\",\"2021-08-31\"),\n",
    "    (\"2021-09-01\",\"2021-09-30\"),\n",
    "    (\"2021-10-01\",\"2021-10-31\"),\n",
    "    (\"2021-11-01\",\"2021-11-30\"),\n",
    "    (\"2021-12-01\",\"2021-12-31\"),\n",
    "    (\"2022-01-01\",\"2022-01-31\"),\n",
    "    (\"2022-02-01\",\"2022-02-28\"),\n",
    "    (\"2022-03-01\",\"2022-03-31\"),\n",
    "    (\"2022-04-01\",\"2022-04-30\"),\n",
    "    (\"2022-05-01\",\"2022-05-31\"),\n",
    "    (\"2022-06-01\",\"2022-06-30\"),    \n",
    "    (\"2022-07-01\",\"2022-07-31\"),\n",
    "    (\"2022-08-01\",\"2022-08-31\"),\n",
    "    (\"2022-09-01\",\"2022-09-30\"),\n",
    "    (\"2022-10-01\",\"2022-10-31\"),\n",
    "    (\"2022-11-01\",\"2022-11-30\"),\n",
    "    (\"2022-12-01\",\"2022-12-31\"),\n",
    "    (\"2023-01-01\",\"2023-01-31\"),\n",
    "    (\"2023-02-01\",\"2023-02-28\"),\n",
    "    (\"2023-03-01\",\"2023-03-31\"),\n",
    "    (\"2023-04-01\",\"2023-04-30\"),\n",
    "    (\"2023-05-01\",\"2023-05-31\"),\n",
    "    (\"2023-06-01\",\"2023-06-30\"),\n",
    "    (\"2023-07-01\",\"2023-07-31\"),\n",
    "    (\"2023-08-01\",\"2023-08-31\"),\n",
    "    (\"2023-09-01\",\"2023-09-30\"),\n",
    "    (\"2023-10-01\",\"2023-10-31\"),\n",
    "    (\"2023-11-01\",\"2023-11-30\"),\n",
    "    (\"2023-12-01\",\"2023-12-31\"),    \n",
    "    (\"2024-01-01\",\"2024-01-31\"),\n",
    "    (\"2024-02-01\",\"2024-02-29\"),\n",
    "    (\"2024-03-01\",\"2024-03-31\"),\n",
    "    (\"2024-04-01\",\"2024-04-30\"),\n",
    "    (\"2024-05-01\",\"2024-05-31\"),\n",
    "    (\"2024-06-01\",\"2024-06-30\"),\n",
    "    (\"2024-07-01\",\"2024-07-31\"),\n",
    "    (\"2024-08-01\",\"2024-08-31\"),    \n",
    "    (\"2024-09-01\",\"2024-09-30\"),\n",
    "    (\"2024-10-01\",\"2024-10-31\"),\n",
    "    (\"2024-11-01\",\"2024-11-30\"),\n",
    "    (\"2024-12-01\",\"2024-12-31\"),\n",
    "    (\"2025-01-01\",\"2025-01-31\"),\n",
    "    (\"2025-02-01\",\"2025-02-28\"),\n",
    "    (\"2025-03-01\",\"2025-03-31\"),\n",
    "    (\"2025-04-01\",\"2025-04-30\"),\n",
    "    (\"2025-05-01\",\"2025-05-31\"),\n",
    "]"
   ]
  },
  {
   "cell_type": "code",
   "execution_count": 20,
   "id": "34aa2e7b",
   "metadata": {},
   "outputs": [],
   "source": [
    "from PIL import Image\n",
    "\n",
    "for start_date, end_date in date_ranges:\n",
    "    request_true_color = SentinelHubRequest(\n",
    "    evalscript=evalscript_true_color,\n",
    "    input_data=[\n",
    "        SentinelHubRequest.input_data(\n",
    "            data_collection=DataCollection.SENTINEL2_L2A.define_from(\n",
    "                name=\"s2l2a\", service_url=\"https://sh.dataspace.copernicus.eu\"\n",
    "            ),\n",
    "            time_interval=(start_date, end_date),\n",
    "            other_args={\"dataFilter\": {\"mosaickingOrder\": \"leastCC\"}},\n",
    "        )\n",
    "    ],\n",
    "    responses=[SentinelHubRequest.output_response(\"default\", MimeType.PNG)],\n",
    "    bbox=aoi_bbox,\n",
    "    size=aoi_size,\n",
    "    config=config,\n",
    ")\n",
    "    true_color_imgs = request_true_color.get_data()\n",
    "    Image.fromarray(true_color_imgs[0]).save(f\"../data/raw/Copernicus/Greenbushes/Greenbushes_{start_date}.png\")"
   ]
  },
  {
   "cell_type": "code",
   "execution_count": null,
   "id": "a6a8e2b2",
   "metadata": {},
   "outputs": [
    {
     "name": "stderr",
     "output_type": "stream",
     "text": [
      "2025-06-26 19:54:33.204 Python[84586:18971822] WARNING: Secure coding is not enabled for restorable state! Enable secure coding by implementing NSApplicationDelegate.applicationSupportsSecureRestorableState: and returning YES.\n"
     ]
    }
   ],
   "source": [
    "vis = SlideShow()\n",
    "vis.display_images('../data/raw/Copernicus/Greenbushes')"
   ]
  },
  {
   "cell_type": "code",
   "execution_count": null,
   "id": "603d5087",
   "metadata": {},
   "outputs": [],
   "source": []
  }
 ],
 "metadata": {
  "kernelspec": {
   "display_name": ".venv",
   "language": "python",
   "name": "python3"
  },
  "language_info": {
   "codemirror_mode": {
    "name": "ipython",
    "version": 3
   },
   "file_extension": ".py",
   "mimetype": "text/x-python",
   "name": "python",
   "nbconvert_exporter": "python",
   "pygments_lexer": "ipython3",
   "version": "3.11.8"
  }
 },
 "nbformat": 4,
 "nbformat_minor": 5
}
