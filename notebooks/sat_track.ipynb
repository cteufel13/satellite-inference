{
 "cells": [
  {
   "cell_type": "code",
   "execution_count": 1,
   "id": "26fbc6cc",
   "metadata": {},
   "outputs": [],
   "source": [
    "import cv2\n",
    "import os"
   ]
  },
  {
   "cell_type": "code",
   "execution_count": 2,
   "id": "60add63e",
   "metadata": {},
   "outputs": [],
   "source": [
    "# Folder with images\n",
    "folder_path = \"../data/processed/Copernicus\"\n",
    "image_files = sorted([f for f in os.listdir(folder_path) if f.endswith(\".png\")])\n",
    "\n",
    "images = [cv2.imread(os.path.join(folder_path, f)) for f in image_files]\n"
   ]
  },
  {
   "cell_type": "code",
   "execution_count": null,
   "id": "4f8a3789",
   "metadata": {},
   "outputs": [
    {
     "name": "stderr",
     "output_type": "stream",
     "text": [
      "2025-06-26 19:16:40.608 Python[82734:18944013] WARNING: Secure coding is not enabled for restorable state! Enable secure coding by implementing NSApplicationDelegate.applicationSupportsSecureRestorableState: and returning YES.\n"
     ]
    },
    {
     "ename": "",
     "evalue": "",
     "output_type": "error",
     "traceback": [
      "\u001b[1;31mThe Kernel crashed while executing code in the current cell or a previous cell. \n",
      "\u001b[1;31mPlease review the code in the cell(s) to identify a possible cause of the failure. \n",
      "\u001b[1;31mClick <a href='https://aka.ms/vscodeJupyterKernelCrash'>here</a> for more info. \n",
      "\u001b[1;31mView Jupyter <a href='command:jupyter.viewOutput'>log</a> for further details."
     ]
    }
   ],
   "source": [
    "for i in range(len(images) - 1):\n",
    "    img1 = images[i]\n",
    "    img2 = images[i + 1]\n",
    "\n",
    "    # Convert to grayscale for comparison\n",
    "    gray1 = cv2.cvtColor(img1, cv2.COLOR_BGR2GRAY)\n",
    "    gray2 = cv2.cvtColor(img2, cv2.COLOR_BGR2GRAY)\n",
    "\n",
    "    # Compute absolute difference\n",
    "    diff = cv2.absdiff(gray1, gray2)\n",
    "\n",
    "    # Threshold the difference\n",
    "    _, thresh = cv2.threshold(diff, 30, 255, cv2.THRESH_BINARY)\n",
    "\n",
    "    # Find contours to highlight changed regions\n",
    "    contours, _ = cv2.findContours(thresh, cv2.RETR_EXTERNAL, cv2.CHAIN_APPROX_SIMPLE)\n",
    "\n",
    "    font = cv2.FONT_HERSHEY_SIMPLEX\n",
    "    font_scale = 0.7\n",
    "    color = (255, 255, 255)\n",
    "    thickness = 2\n",
    "    position = (10, 30)\n",
    "\n",
    "    \n",
    "\n",
    "    # Draw bounding boxes on the second image\n",
    "    result = img2.copy()\n",
    "    for cnt in contours:\n",
    "        x, y, w, h = cv2.boundingRect(cnt)\n",
    "        if w * h > 100:  # Filter small noise\n",
    "            cv2.rectangle(result, (x, y), (x + w, y + h), (0, 0, 255), 2)\n",
    "\n",
    "    cv2.putText(result, f\"{i}\", position, font, font_scale, color, thickness)\n",
    "\n",
    "    # Show or save the result\n",
    "    cv2.imshow(f\"Changes from {image_files[i]} to {image_files[i+1]}\", result)\n",
    "    cv2.waitKey(0)\n"
   ]
  },
  {
   "cell_type": "code",
   "execution_count": null,
   "id": "fdd27be1",
   "metadata": {},
   "outputs": [],
   "source": []
  }
 ],
 "metadata": {
  "kernelspec": {
   "display_name": ".venv",
   "language": "python",
   "name": "python3"
  },
  "language_info": {
   "codemirror_mode": {
    "name": "ipython",
    "version": 3
   },
   "file_extension": ".py",
   "mimetype": "text/x-python",
   "name": "python",
   "nbconvert_exporter": "python",
   "pygments_lexer": "ipython3",
   "version": "3.11.8"
  }
 },
 "nbformat": 4,
 "nbformat_minor": 5
}
