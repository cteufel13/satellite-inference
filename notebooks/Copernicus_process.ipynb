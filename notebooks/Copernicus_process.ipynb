{
 "cells": [
  {
   "cell_type": "code",
   "execution_count": 1,
   "id": "1264478b",
   "metadata": {},
   "outputs": [],
   "source": [
    "import sys\n",
    "sys.path.append(\"..\")\n",
    "import os\n",
    "from PIL import Image\n",
    "from src.visualization.image_slideshow import SlideShow"
   ]
  },
  {
   "cell_type": "code",
   "execution_count": 2,
   "id": "d1916710",
   "metadata": {},
   "outputs": [],
   "source": [
    "src_folder = \"../data/raw/Copernicus\"\n",
    "dst_folder = \"../data/processed/Copernicus\""
   ]
  },
  {
   "cell_type": "markdown",
   "id": "5cc42ae1",
   "metadata": {},
   "source": [
    "### Grayscaling"
   ]
  },
  {
   "cell_type": "code",
   "execution_count": 3,
   "id": "b5446ef2",
   "metadata": {},
   "outputs": [],
   "source": [
    "for image in os.listdir(src_folder):\n",
    "    img = Image.open(os.path.join(src_folder, image))\n",
    "    img = img.convert(\"L\")\n",
    "    img.save(os.path.join(dst_folder, image))"
   ]
  },
  {
   "cell_type": "code",
   "execution_count": null,
   "id": "2195d854",
   "metadata": {},
   "outputs": [],
   "source": [
    "from skimage.io import imread, imsave\n",
    "from skimage.exposure import match_histograms\n",
    "from skimage.util import img_as_ubyte\n"
   ]
  },
  {
   "cell_type": "code",
   "execution_count": null,
   "id": "63275e12",
   "metadata": {},
   "outputs": [
    {
     "name": "stdout",
     "output_type": "stream",
     "text": [
      "Processed: Escondida_2022-06-01.png\n",
      "Processed: Escondida_2017-06-01.png\n",
      "Processed: Escondida_2018-07-01.png\n",
      "Processed: Escondida_2021-01-01.png\n",
      "Processed: Escondida_2020-07-01.png\n",
      "Processed: Escondida_2016-12-01.png\n",
      "Processed: Escondida_2019-01-01.png\n",
      "Processed: Escondida_2024-08-01.png\n",
      "Processed: Escondida_2023-12-01.png\n",
      "Processed: Escondida_2024-04-01.png\n",
      "Processed: Escondida_2020-09-01.png\n",
      "Processed: Escondida_2019-03-01.png\n",
      "Processed: Escondida_2016-10-01.png\n",
      "Processed: Escondida_2020-05-01.png\n",
      "Processed: Escondida_2019-11-01.png\n",
      "Processed: Escondida_2024-06-01.png\n",
      "Processed: Escondida_2023-02-01.png\n",
      "Processed: Escondida_2023-10-01.png\n",
      "Processed: Escondida_2022-08-01.png\n",
      "Processed: Escondida_2022-04-01.png\n",
      "Processed: Escondida_2017-08-01.png\n",
      "Processed: Escondida_2021-03-01.png\n",
      "Processed: Escondida_2018-09-01.png\n",
      "Processed: Escondida_2018-05-01.png\n",
      "Processed: Escondida_2021-11-01.png\n",
      "Processed: Escondida_2017-04-01.png\n",
      "Processed: Escondida_2024-10-01.png\n",
      "Processed: Escondida_2024-02-01.png\n",
      "Processed: Escondida_2023-06-01.png\n",
      "Processed: Escondida_2020-01-01.png\n",
      "Processed: Escondida_2016-06-01.png\n",
      "Processed: Escondida_2019-07-01.png\n",
      "Processed: Escondida_2018-01-01.png\n",
      "Processed: Escondida_2021-07-01.png\n",
      "Processed: Escondida_2017-12-01.png\n",
      "Processed: Escondida_2025-04-01.png\n",
      "Processed: Escondida_2022-12-01.png\n",
      "Processed: Escondida_2017-10-01.png\n",
      "Processed: Escondida_2021-05-01.png\n",
      "Processed: Escondida_2018-11-01.png\n",
      "Processed: Escondida_2017-02-01.png\n",
      "Processed: Escondida_2021-09-01.png\n",
      "Processed: Escondida_2018-03-01.png\n",
      "Processed: Escondida_2022-10-01.png\n",
      "Processed: Escondida_2022-02-01.png\n",
      "Processed: Escondida_2023-04-01.png\n",
      "Processed: Escondida_2023-08-01.png\n",
      "Processed: Escondida_2024-12-01.png\n",
      "Processed: Escondida_2019-05-01.png\n",
      "Processed: Escondida_2020-11-01.png\n",
      "Processed: Escondida_2016-08-01.png\n",
      "Processed: Escondida_2020-03-01.png\n",
      "Processed: Escondida_2019-09-01.png\n",
      "Processed: Escondida_2024-09-01.png\n",
      "Processed: Escondida_2024-05-01.png\n",
      "Processed: Escondida_2023-01-01.png\n",
      "Processed: Escondida_2019-12-01.png\n",
      "Processed: Escondida_2020-06-01.png\n",
      "Processed: Escondida_2021-12-01.png\n",
      "Processed: Escondida_2018-06-01.png\n",
      "Processed: Escondida_2017-07-01.png\n",
      "Processed: Escondida_2022-07-01.png\n",
      "Processed: Escondida_2025-03-01.png\n",
      "Processed: Escondida_2018-08-01.png\n",
      "Processed: Escondida_2017-09-01.png\n",
      "Processed: Escondida_2021-02-01.png\n",
      "Processed: Escondida_2017-05-01.png\n",
      "Processed: Escondida_2021-10-01.png\n",
      "Processed: Escondida_2018-04-01.png\n",
      "Processed: Escondida_2022-09-01.png\n",
      "Processed: Escondida_2025-01-01.png\n",
      "Processed: Escondida_2022-05-01.png\n",
      "Processed: Escondida_2023-03-01.png\n",
      "Processed: Escondida_2024-07-01.png\n",
      "Processed: Escondida_2023-11-01.png\n",
      "Processed: Escondida_2019-02-01.png\n",
      "Processed: Escondida_2020-08-01.png\n",
      "Processed: Escondida_2019-10-01.png\n",
      "Processed: Escondida_2020-04-01.png\n",
      "Processed: Escondida_2016-11-01.png\n",
      "Processed: Escondida_2025-05-01.png\n",
      "Processed: Escondida_2022-01-01.png\n",
      "Processed: Escondida_2017-01-01.png\n",
      "Processed: Escondida_2018-12-01.png\n",
      "Processed: Escondida_2021-06-01.png\n",
      "Processed: Escondida_2020-12-01.png\n",
      "Processed: Escondida_2019-06-01.png\n",
      "Processed: Escondida_2016-07-01.png\n",
      "Processed: Escondida_2024-11-01.png\n",
      "Processed: Escondida_2023-07-01.png\n",
      "Processed: Escondida_2024-03-01.png\n",
      "Processed: Escondida_2020-10-01.png\n",
      "Processed: Escondida_2019-04-01.png\n",
      "Processed: Escondida_2019-08-01.png\n",
      "Processed: Escondida_2016-09-01.png\n",
      "Processed: Escondida_2020-02-01.png\n",
      "Processed: Escondida_2024-01-01.png\n",
      "Processed: Escondida_2023-05-01.png\n",
      "Processed: Escondida_2023-09-01.png\n",
      "Processed: Escondida_2022-11-01.png\n",
      "Processed: Escondida_2022-03-01.png\n",
      "Processed: Escondida_2018-10-01.png\n",
      "Processed: Escondida_2021-04-01.png\n",
      "Processed: Escondida_2017-11-01.png\n",
      "Processed: Escondida_2018-02-01.png\n",
      "Processed: Escondida_2017-03-01.png\n",
      "Processed: Escondida_2021-08-01.png\n"
     ]
    }
   ],
   "source": [
    "for fname in os.listdir(src_folder):\n",
    "    if fname.endswith(\".png\") or fname.endswith(\".jpg\"):\n",
    "        input_path = os.path.join(dst_folder, fname)\n",
    "        output_path = os.path.join(dst_folder, fname)\n",
    "\n",
    "        if fname == os.path.basename(os.listdir(src_folder)[0]):\n",
    "            # Skip the reference image itself (or copy it if needed)\n",
    "            continue\n",
    "\n",
    "        img = imread(input_path)\n",
    "        matched = match_histograms(img, imread(os.path.join(src_folder, os.listdir(src_folder)[0])), channel_axis=None)\n",
    "        matched_norm = (matched - matched.min()) / (matched.max() - matched.min())\n",
    "\n",
    "        matched_uint8 = img_as_ubyte(matched_norm)\n",
    "        imsave(output_path, matched_uint8)\n",
    "\n",
    "        print(f\"Processed: {fname}\")"
   ]
  },
  {
   "cell_type": "code",
   "execution_count": null,
   "id": "6f28e74a",
   "metadata": {},
   "outputs": [
    {
     "name": "stderr",
     "output_type": "stream",
     "text": [
      "2025-06-26 19:15:53.172 Python[82622:18942973] WARNING: Secure coding is not enabled for restorable state! Enable secure coding by implementing NSApplicationDelegate.applicationSupportsSecureRestorableState: and returning YES.\n"
     ]
    }
   ],
   "source": [
    "slideshow = SlideShow()\n",
    "slideshow.display_images(dst_folder)"
   ]
  },
  {
   "cell_type": "code",
   "execution_count": null,
   "id": "4b98352c",
   "metadata": {},
   "outputs": [],
   "source": []
  }
 ],
 "metadata": {
  "kernelspec": {
   "display_name": ".venv",
   "language": "python",
   "name": "python3"
  },
  "language_info": {
   "codemirror_mode": {
    "name": "ipython",
    "version": 3
   },
   "file_extension": ".py",
   "mimetype": "text/x-python",
   "name": "python",
   "nbconvert_exporter": "python",
   "pygments_lexer": "ipython3",
   "version": "3.11.8"
  }
 },
 "nbformat": 4,
 "nbformat_minor": 5
}
